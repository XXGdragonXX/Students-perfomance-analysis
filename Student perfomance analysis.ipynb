{
 "cells": [
  {
   "cell_type": "code",
   "execution_count": 1,
   "id": "0f55afb6",
   "metadata": {},
   "outputs": [],
   "source": [
    "import pandas as pd\n",
    "import numpy as np\n",
    "import matplotlib.pyplot as plt\n",
    "import seaborn as sns"
   ]
  },
  {
   "cell_type": "code",
   "execution_count": 2,
   "id": "9d5a72ae",
   "metadata": {
    "scrolled": true
   },
   "outputs": [
    {
     "data": {
      "text/html": [
       "<div>\n",
       "<style scoped>\n",
       "    .dataframe tbody tr th:only-of-type {\n",
       "        vertical-align: middle;\n",
       "    }\n",
       "\n",
       "    .dataframe tbody tr th {\n",
       "        vertical-align: top;\n",
       "    }\n",
       "\n",
       "    .dataframe thead th {\n",
       "        text-align: right;\n",
       "    }\n",
       "</style>\n",
       "<table border=\"1\" class=\"dataframe\">\n",
       "  <thead>\n",
       "    <tr style=\"text-align: right;\">\n",
       "      <th></th>\n",
       "      <th>gender</th>\n",
       "      <th>race/ethnicity</th>\n",
       "      <th>parental level of education</th>\n",
       "      <th>lunch</th>\n",
       "      <th>test preparation course</th>\n",
       "      <th>math score</th>\n",
       "      <th>reading score</th>\n",
       "      <th>writing score</th>\n",
       "    </tr>\n",
       "  </thead>\n",
       "  <tbody>\n",
       "    <tr>\n",
       "      <th>0</th>\n",
       "      <td>female</td>\n",
       "      <td>group B</td>\n",
       "      <td>bachelor's degree</td>\n",
       "      <td>standard</td>\n",
       "      <td>none</td>\n",
       "      <td>72</td>\n",
       "      <td>72</td>\n",
       "      <td>74</td>\n",
       "    </tr>\n",
       "    <tr>\n",
       "      <th>1</th>\n",
       "      <td>female</td>\n",
       "      <td>group C</td>\n",
       "      <td>some college</td>\n",
       "      <td>standard</td>\n",
       "      <td>completed</td>\n",
       "      <td>69</td>\n",
       "      <td>90</td>\n",
       "      <td>88</td>\n",
       "    </tr>\n",
       "    <tr>\n",
       "      <th>2</th>\n",
       "      <td>female</td>\n",
       "      <td>group B</td>\n",
       "      <td>master's degree</td>\n",
       "      <td>standard</td>\n",
       "      <td>none</td>\n",
       "      <td>90</td>\n",
       "      <td>95</td>\n",
       "      <td>93</td>\n",
       "    </tr>\n",
       "    <tr>\n",
       "      <th>3</th>\n",
       "      <td>male</td>\n",
       "      <td>group A</td>\n",
       "      <td>associate's degree</td>\n",
       "      <td>free/reduced</td>\n",
       "      <td>none</td>\n",
       "      <td>47</td>\n",
       "      <td>57</td>\n",
       "      <td>44</td>\n",
       "    </tr>\n",
       "    <tr>\n",
       "      <th>4</th>\n",
       "      <td>male</td>\n",
       "      <td>group C</td>\n",
       "      <td>some college</td>\n",
       "      <td>standard</td>\n",
       "      <td>none</td>\n",
       "      <td>76</td>\n",
       "      <td>78</td>\n",
       "      <td>75</td>\n",
       "    </tr>\n",
       "  </tbody>\n",
       "</table>\n",
       "</div>"
      ],
      "text/plain": [
       "   gender race/ethnicity parental level of education         lunch  \\\n",
       "0  female        group B           bachelor's degree      standard   \n",
       "1  female        group C                some college      standard   \n",
       "2  female        group B             master's degree      standard   \n",
       "3    male        group A          associate's degree  free/reduced   \n",
       "4    male        group C                some college      standard   \n",
       "\n",
       "  test preparation course  math score  reading score  writing score  \n",
       "0                    none          72             72             74  \n",
       "1               completed          69             90             88  \n",
       "2                    none          90             95             93  \n",
       "3                    none          47             57             44  \n",
       "4                    none          76             78             75  "
      ]
     },
     "execution_count": 2,
     "metadata": {},
     "output_type": "execute_result"
    }
   ],
   "source": [
    "DF=pd.read_csv(\"E:\\Project\\StudentsPerformance.csv\")\n",
    "DF.head()\n"
   ]
  },
  {
   "cell_type": "code",
   "execution_count": 3,
   "id": "35e4c4f8",
   "metadata": {},
   "outputs": [
    {
     "data": {
      "text/plain": [
       "(1000, 8)"
      ]
     },
     "execution_count": 3,
     "metadata": {},
     "output_type": "execute_result"
    }
   ],
   "source": [
    "DF.shape"
   ]
  },
  {
   "cell_type": "code",
   "execution_count": 4,
   "id": "bef244db",
   "metadata": {},
   "outputs": [],
   "source": [
    "DF.rename(columns={\"gender\":\"Gender\"},inplace=True)\n",
    "DF.rename(columns={\"race/ethnicity\":\"Ethnicity\"},inplace=True)\n",
    "DF.rename(columns={\"parental level of education\":\"Parents_Qualification\"},inplace=True)\n",
    "DF.rename(columns={\"lunch\":\"Lunch\"},inplace=True)\n",
    "DF.rename(columns={\"test preparation course\":\"Course\"},inplace=True)\n",
    "DF.rename(columns={\"math score\":\"Maths\"},inplace=True)\n",
    "DF.rename(columns={\"reading score\":\"Reading\"},inplace=True)\n",
    "DF.rename(columns={\"writing score\":\"Writing\"},inplace=True)\n",
    "#DF.rename(coloums={\"gender\":\"Gender\"},inplace=True)\n"
   ]
  },
  {
   "cell_type": "code",
   "execution_count": 5,
   "id": "842c40cd",
   "metadata": {},
   "outputs": [
    {
     "data": {
      "text/html": [
       "<div>\n",
       "<style scoped>\n",
       "    .dataframe tbody tr th:only-of-type {\n",
       "        vertical-align: middle;\n",
       "    }\n",
       "\n",
       "    .dataframe tbody tr th {\n",
       "        vertical-align: top;\n",
       "    }\n",
       "\n",
       "    .dataframe thead th {\n",
       "        text-align: right;\n",
       "    }\n",
       "</style>\n",
       "<table border=\"1\" class=\"dataframe\">\n",
       "  <thead>\n",
       "    <tr style=\"text-align: right;\">\n",
       "      <th></th>\n",
       "      <th>Gender</th>\n",
       "      <th>Ethnicity</th>\n",
       "      <th>Parents_Qualification</th>\n",
       "      <th>Lunch</th>\n",
       "      <th>Course</th>\n",
       "      <th>Maths</th>\n",
       "      <th>Reading</th>\n",
       "      <th>Writing</th>\n",
       "    </tr>\n",
       "  </thead>\n",
       "  <tbody>\n",
       "    <tr>\n",
       "      <th>0</th>\n",
       "      <td>female</td>\n",
       "      <td>group B</td>\n",
       "      <td>bachelor's degree</td>\n",
       "      <td>standard</td>\n",
       "      <td>none</td>\n",
       "      <td>72</td>\n",
       "      <td>72</td>\n",
       "      <td>74</td>\n",
       "    </tr>\n",
       "    <tr>\n",
       "      <th>1</th>\n",
       "      <td>female</td>\n",
       "      <td>group C</td>\n",
       "      <td>some college</td>\n",
       "      <td>standard</td>\n",
       "      <td>completed</td>\n",
       "      <td>69</td>\n",
       "      <td>90</td>\n",
       "      <td>88</td>\n",
       "    </tr>\n",
       "    <tr>\n",
       "      <th>2</th>\n",
       "      <td>female</td>\n",
       "      <td>group B</td>\n",
       "      <td>master's degree</td>\n",
       "      <td>standard</td>\n",
       "      <td>none</td>\n",
       "      <td>90</td>\n",
       "      <td>95</td>\n",
       "      <td>93</td>\n",
       "    </tr>\n",
       "    <tr>\n",
       "      <th>3</th>\n",
       "      <td>male</td>\n",
       "      <td>group A</td>\n",
       "      <td>associate's degree</td>\n",
       "      <td>free/reduced</td>\n",
       "      <td>none</td>\n",
       "      <td>47</td>\n",
       "      <td>57</td>\n",
       "      <td>44</td>\n",
       "    </tr>\n",
       "    <tr>\n",
       "      <th>4</th>\n",
       "      <td>male</td>\n",
       "      <td>group C</td>\n",
       "      <td>some college</td>\n",
       "      <td>standard</td>\n",
       "      <td>none</td>\n",
       "      <td>76</td>\n",
       "      <td>78</td>\n",
       "      <td>75</td>\n",
       "    </tr>\n",
       "  </tbody>\n",
       "</table>\n",
       "</div>"
      ],
      "text/plain": [
       "   Gender Ethnicity Parents_Qualification         Lunch     Course  Maths  \\\n",
       "0  female   group B     bachelor's degree      standard       none     72   \n",
       "1  female   group C          some college      standard  completed     69   \n",
       "2  female   group B       master's degree      standard       none     90   \n",
       "3    male   group A    associate's degree  free/reduced       none     47   \n",
       "4    male   group C          some college      standard       none     76   \n",
       "\n",
       "   Reading  Writing  \n",
       "0       72       74  \n",
       "1       90       88  \n",
       "2       95       93  \n",
       "3       57       44  \n",
       "4       78       75  "
      ]
     },
     "execution_count": 5,
     "metadata": {},
     "output_type": "execute_result"
    }
   ],
   "source": [
    "DF.head()"
   ]
  },
  {
   "cell_type": "code",
   "execution_count": 6,
   "id": "52360b11",
   "metadata": {},
   "outputs": [
    {
     "data": {
      "text/html": [
       "<div>\n",
       "<style scoped>\n",
       "    .dataframe tbody tr th:only-of-type {\n",
       "        vertical-align: middle;\n",
       "    }\n",
       "\n",
       "    .dataframe tbody tr th {\n",
       "        vertical-align: top;\n",
       "    }\n",
       "\n",
       "    .dataframe thead th {\n",
       "        text-align: right;\n",
       "    }\n",
       "</style>\n",
       "<table border=\"1\" class=\"dataframe\">\n",
       "  <thead>\n",
       "    <tr style=\"text-align: right;\">\n",
       "      <th></th>\n",
       "      <th>Gender</th>\n",
       "      <th>Ethnicity</th>\n",
       "      <th>Parents_Qualification</th>\n",
       "      <th>Lunch</th>\n",
       "      <th>Course</th>\n",
       "      <th>Maths</th>\n",
       "      <th>Reading</th>\n",
       "      <th>Writing</th>\n",
       "      <th>Average</th>\n",
       "    </tr>\n",
       "  </thead>\n",
       "  <tbody>\n",
       "    <tr>\n",
       "      <th>0</th>\n",
       "      <td>female</td>\n",
       "      <td>group B</td>\n",
       "      <td>bachelor's degree</td>\n",
       "      <td>standard</td>\n",
       "      <td>none</td>\n",
       "      <td>72</td>\n",
       "      <td>72</td>\n",
       "      <td>74</td>\n",
       "      <td>72.666667</td>\n",
       "    </tr>\n",
       "    <tr>\n",
       "      <th>1</th>\n",
       "      <td>female</td>\n",
       "      <td>group C</td>\n",
       "      <td>some college</td>\n",
       "      <td>standard</td>\n",
       "      <td>completed</td>\n",
       "      <td>69</td>\n",
       "      <td>90</td>\n",
       "      <td>88</td>\n",
       "      <td>82.333333</td>\n",
       "    </tr>\n",
       "    <tr>\n",
       "      <th>2</th>\n",
       "      <td>female</td>\n",
       "      <td>group B</td>\n",
       "      <td>master's degree</td>\n",
       "      <td>standard</td>\n",
       "      <td>none</td>\n",
       "      <td>90</td>\n",
       "      <td>95</td>\n",
       "      <td>93</td>\n",
       "      <td>92.666667</td>\n",
       "    </tr>\n",
       "    <tr>\n",
       "      <th>3</th>\n",
       "      <td>male</td>\n",
       "      <td>group A</td>\n",
       "      <td>associate's degree</td>\n",
       "      <td>free/reduced</td>\n",
       "      <td>none</td>\n",
       "      <td>47</td>\n",
       "      <td>57</td>\n",
       "      <td>44</td>\n",
       "      <td>49.333333</td>\n",
       "    </tr>\n",
       "    <tr>\n",
       "      <th>4</th>\n",
       "      <td>male</td>\n",
       "      <td>group C</td>\n",
       "      <td>some college</td>\n",
       "      <td>standard</td>\n",
       "      <td>none</td>\n",
       "      <td>76</td>\n",
       "      <td>78</td>\n",
       "      <td>75</td>\n",
       "      <td>76.333333</td>\n",
       "    </tr>\n",
       "    <tr>\n",
       "      <th>...</th>\n",
       "      <td>...</td>\n",
       "      <td>...</td>\n",
       "      <td>...</td>\n",
       "      <td>...</td>\n",
       "      <td>...</td>\n",
       "      <td>...</td>\n",
       "      <td>...</td>\n",
       "      <td>...</td>\n",
       "      <td>...</td>\n",
       "    </tr>\n",
       "    <tr>\n",
       "      <th>995</th>\n",
       "      <td>female</td>\n",
       "      <td>group E</td>\n",
       "      <td>master's degree</td>\n",
       "      <td>standard</td>\n",
       "      <td>completed</td>\n",
       "      <td>88</td>\n",
       "      <td>99</td>\n",
       "      <td>95</td>\n",
       "      <td>94.000000</td>\n",
       "    </tr>\n",
       "    <tr>\n",
       "      <th>996</th>\n",
       "      <td>male</td>\n",
       "      <td>group C</td>\n",
       "      <td>high school</td>\n",
       "      <td>free/reduced</td>\n",
       "      <td>none</td>\n",
       "      <td>62</td>\n",
       "      <td>55</td>\n",
       "      <td>55</td>\n",
       "      <td>57.333333</td>\n",
       "    </tr>\n",
       "    <tr>\n",
       "      <th>997</th>\n",
       "      <td>female</td>\n",
       "      <td>group C</td>\n",
       "      <td>high school</td>\n",
       "      <td>free/reduced</td>\n",
       "      <td>completed</td>\n",
       "      <td>59</td>\n",
       "      <td>71</td>\n",
       "      <td>65</td>\n",
       "      <td>65.000000</td>\n",
       "    </tr>\n",
       "    <tr>\n",
       "      <th>998</th>\n",
       "      <td>female</td>\n",
       "      <td>group D</td>\n",
       "      <td>some college</td>\n",
       "      <td>standard</td>\n",
       "      <td>completed</td>\n",
       "      <td>68</td>\n",
       "      <td>78</td>\n",
       "      <td>77</td>\n",
       "      <td>74.333333</td>\n",
       "    </tr>\n",
       "    <tr>\n",
       "      <th>999</th>\n",
       "      <td>female</td>\n",
       "      <td>group D</td>\n",
       "      <td>some college</td>\n",
       "      <td>free/reduced</td>\n",
       "      <td>none</td>\n",
       "      <td>77</td>\n",
       "      <td>86</td>\n",
       "      <td>86</td>\n",
       "      <td>83.000000</td>\n",
       "    </tr>\n",
       "  </tbody>\n",
       "</table>\n",
       "<p>1000 rows × 9 columns</p>\n",
       "</div>"
      ],
      "text/plain": [
       "     Gender Ethnicity Parents_Qualification         Lunch     Course  Maths  \\\n",
       "0    female   group B     bachelor's degree      standard       none     72   \n",
       "1    female   group C          some college      standard  completed     69   \n",
       "2    female   group B       master's degree      standard       none     90   \n",
       "3      male   group A    associate's degree  free/reduced       none     47   \n",
       "4      male   group C          some college      standard       none     76   \n",
       "..      ...       ...                   ...           ...        ...    ...   \n",
       "995  female   group E       master's degree      standard  completed     88   \n",
       "996    male   group C           high school  free/reduced       none     62   \n",
       "997  female   group C           high school  free/reduced  completed     59   \n",
       "998  female   group D          some college      standard  completed     68   \n",
       "999  female   group D          some college  free/reduced       none     77   \n",
       "\n",
       "     Reading  Writing    Average  \n",
       "0         72       74  72.666667  \n",
       "1         90       88  82.333333  \n",
       "2         95       93  92.666667  \n",
       "3         57       44  49.333333  \n",
       "4         78       75  76.333333  \n",
       "..       ...      ...        ...  \n",
       "995       99       95  94.000000  \n",
       "996       55       55  57.333333  \n",
       "997       71       65  65.000000  \n",
       "998       78       77  74.333333  \n",
       "999       86       86  83.000000  \n",
       "\n",
       "[1000 rows x 9 columns]"
      ]
     },
     "execution_count": 6,
     "metadata": {},
     "output_type": "execute_result"
    }
   ],
   "source": [
    "#Adding the average marks for better analysis\n",
    "average=DF.mean(numeric_only=True,axis=1)\n",
    "DF['Average']=average\n",
    "DF\n"
   ]
  },
  {
   "cell_type": "code",
   "execution_count": 7,
   "id": "1cc0d0c6",
   "metadata": {},
   "outputs": [],
   "source": [
    "#adding the grades for better abalysis\n",
    "conditions,type_choices=(\n",
    "   [    (DF[\"Average\"] > 91),\n",
    "        (DF[\"Average\"] > 81),\n",
    "        (DF[\"Average\"] > 71),\n",
    "        (DF[\"Average\"] > 61),\n",
    "        (DF[\"Average\"] > 51),\n",
    "        (DF[\"Average\"] > 41),\n",
    "        (DF[\"Average\"] > 31),\n",
    "        (DF[\"Average\"] <= 30),]\n",
    "    ,[\"A1\", \"A2\", \"B1\", \"B2\", \"C1\", \"C2\", \"D\", \"Fail\"]\n",
    ")\n",
    "\n",
    "DF[\"Grade\"] = np.select(conditions, type_choices, default=\"Fail\")\n",
    "\n",
    "\n",
    "\n"
   ]
  },
  {
   "cell_type": "code",
   "execution_count": 8,
   "id": "093ea3c3",
   "metadata": {},
   "outputs": [
    {
     "data": {
      "text/html": [
       "<div>\n",
       "<style scoped>\n",
       "    .dataframe tbody tr th:only-of-type {\n",
       "        vertical-align: middle;\n",
       "    }\n",
       "\n",
       "    .dataframe tbody tr th {\n",
       "        vertical-align: top;\n",
       "    }\n",
       "\n",
       "    .dataframe thead th {\n",
       "        text-align: right;\n",
       "    }\n",
       "</style>\n",
       "<table border=\"1\" class=\"dataframe\">\n",
       "  <thead>\n",
       "    <tr style=\"text-align: right;\">\n",
       "      <th></th>\n",
       "      <th>Gender</th>\n",
       "      <th>Ethnicity</th>\n",
       "      <th>Parents_Qualification</th>\n",
       "      <th>Lunch</th>\n",
       "      <th>Course</th>\n",
       "      <th>Maths</th>\n",
       "      <th>Reading</th>\n",
       "      <th>Writing</th>\n",
       "      <th>Average</th>\n",
       "      <th>Grade</th>\n",
       "    </tr>\n",
       "  </thead>\n",
       "  <tbody>\n",
       "    <tr>\n",
       "      <th>0</th>\n",
       "      <td>female</td>\n",
       "      <td>group B</td>\n",
       "      <td>bachelor's degree</td>\n",
       "      <td>standard</td>\n",
       "      <td>none</td>\n",
       "      <td>72</td>\n",
       "      <td>72</td>\n",
       "      <td>74</td>\n",
       "      <td>72.666667</td>\n",
       "      <td>B1</td>\n",
       "    </tr>\n",
       "    <tr>\n",
       "      <th>1</th>\n",
       "      <td>female</td>\n",
       "      <td>group C</td>\n",
       "      <td>some college</td>\n",
       "      <td>standard</td>\n",
       "      <td>completed</td>\n",
       "      <td>69</td>\n",
       "      <td>90</td>\n",
       "      <td>88</td>\n",
       "      <td>82.333333</td>\n",
       "      <td>A2</td>\n",
       "    </tr>\n",
       "    <tr>\n",
       "      <th>2</th>\n",
       "      <td>female</td>\n",
       "      <td>group B</td>\n",
       "      <td>master's degree</td>\n",
       "      <td>standard</td>\n",
       "      <td>none</td>\n",
       "      <td>90</td>\n",
       "      <td>95</td>\n",
       "      <td>93</td>\n",
       "      <td>92.666667</td>\n",
       "      <td>A1</td>\n",
       "    </tr>\n",
       "    <tr>\n",
       "      <th>3</th>\n",
       "      <td>male</td>\n",
       "      <td>group A</td>\n",
       "      <td>associate's degree</td>\n",
       "      <td>free/reduced</td>\n",
       "      <td>none</td>\n",
       "      <td>47</td>\n",
       "      <td>57</td>\n",
       "      <td>44</td>\n",
       "      <td>49.333333</td>\n",
       "      <td>C2</td>\n",
       "    </tr>\n",
       "    <tr>\n",
       "      <th>4</th>\n",
       "      <td>male</td>\n",
       "      <td>group C</td>\n",
       "      <td>some college</td>\n",
       "      <td>standard</td>\n",
       "      <td>none</td>\n",
       "      <td>76</td>\n",
       "      <td>78</td>\n",
       "      <td>75</td>\n",
       "      <td>76.333333</td>\n",
       "      <td>B1</td>\n",
       "    </tr>\n",
       "  </tbody>\n",
       "</table>\n",
       "</div>"
      ],
      "text/plain": [
       "   Gender Ethnicity Parents_Qualification         Lunch     Course  Maths  \\\n",
       "0  female   group B     bachelor's degree      standard       none     72   \n",
       "1  female   group C          some college      standard  completed     69   \n",
       "2  female   group B       master's degree      standard       none     90   \n",
       "3    male   group A    associate's degree  free/reduced       none     47   \n",
       "4    male   group C          some college      standard       none     76   \n",
       "\n",
       "   Reading  Writing    Average Grade  \n",
       "0       72       74  72.666667    B1  \n",
       "1       90       88  82.333333    A2  \n",
       "2       95       93  92.666667    A1  \n",
       "3       57       44  49.333333    C2  \n",
       "4       78       75  76.333333    B1  "
      ]
     },
     "execution_count": 8,
     "metadata": {},
     "output_type": "execute_result"
    }
   ],
   "source": [
    "DF.head()"
   ]
  },
  {
   "cell_type": "code",
   "execution_count": 9,
   "id": "17ced024",
   "metadata": {},
   "outputs": [
    {
     "name": "stderr",
     "output_type": "stream",
     "text": [
      "F:\\lib\\site-packages\\seaborn\\distributions.py:2557: FutureWarning: `distplot` is a deprecated function and will be removed in a future version. Please adapt your code to use either `displot` (a figure-level function with similar flexibility) or `histplot` (an axes-level function for histograms).\n",
      "  warnings.warn(msg, FutureWarning)\n",
      "F:\\lib\\site-packages\\seaborn\\distributions.py:2557: FutureWarning: `distplot` is a deprecated function and will be removed in a future version. Please adapt your code to use either `displot` (a figure-level function with similar flexibility) or `histplot` (an axes-level function for histograms).\n",
      "  warnings.warn(msg, FutureWarning)\n",
      "F:\\lib\\site-packages\\seaborn\\distributions.py:2557: FutureWarning: `distplot` is a deprecated function and will be removed in a future version. Please adapt your code to use either `displot` (a figure-level function with similar flexibility) or `histplot` (an axes-level function for histograms).\n",
      "  warnings.warn(msg, FutureWarning)\n",
      "F:\\lib\\site-packages\\seaborn\\distributions.py:2557: FutureWarning: `distplot` is a deprecated function and will be removed in a future version. Please adapt your code to use either `displot` (a figure-level function with similar flexibility) or `histplot` (an axes-level function for histograms).\n",
      "  warnings.warn(msg, FutureWarning)\n"
     ]
    },
    {
     "data": {
      "image/png": "[encoded data removed]",
      "text/plain": [
       "<Figure size 864x432 with 4 Axes>"
      ]
     },
     "metadata": {
      "needs_background": "light"
     },
     "output_type": "display_data"
    }
   ],
   "source": [
    "#density plots of Average and the Grades\n",
    "plt.figure(figsize=(12,6))\n",
    "n=0\n",
    "for x in ['Maths','Reading','Writing','Average']:\n",
    "    n+=1\n",
    "    plt.subplot(1,4, n)\n",
    "    plt.subplots_adjust(hspace=0.5 , wspace=0.5)\n",
    "    sns.distplot(DF[x] , bins=10)\n",
    "    \n",
    "plt.show()    \n"
   ]
  },
  {
   "cell_type": "code",
   "execution_count": 10,
   "id": "fe35c979",
   "metadata": {},
   "outputs": [
    {
     "data": {
      "image/png": "[encoded data removed]",
      "text/plain": [
       "<Figure size 1440x720 with 1 Axes>"
      ]
     },
     "metadata": {
      "needs_background": "light"
     },
     "output_type": "display_data"
    }
   ],
   "source": [
    "plt.figure(figsize=(20,10))\n",
    "av1 =  DF['Average'][(DF['Average'] >= 21) & (DF[\"Average\"] <= 40)]\n",
    "av2 =  DF['Average'][(DF['Average'] >= 41) & (DF[\"Average\"] <= 60)]\n",
    "av3 =  DF['Average'][(DF['Average'] >= 61) & (DF[\"Average\"] <= 80)]\n",
    "av4 =  DF['Average'][(DF['Average'] >= 81) & (DF[\"Average\"] <= 100)]\n",
    "ssx = [\"21-40\", \"41-60\", \"61-80\", \"81-100\"]\n",
    "ssy = [len(av1.values), len(av2.values), len(av3.values), len(av4.values)]\n",
    "plt.title (\"Average Raange of student\")\n",
    "sns.barplot(x=ssx, y=ssy, palette=\"Set2\")\n",
    "\n",
    "plt.xlabel(\"Average Scores\")\n",
    "plt.ylabel(\"Number of students Having the Score\")\n",
    "plt.show()\n",
    "\n",
    "\n",
    "\n"
   ]
  },
  {
   "cell_type": "code",
   "execution_count": 11,
   "id": "fe6c7faa",
   "metadata": {},
   "outputs": [
    {
     "data": {
      "text/plain": [
       "group C    319\n",
       "group D    262\n",
       "group B    190\n",
       "group E    140\n",
       "group A     89\n",
       "Name: Ethnicity, dtype: int64"
      ]
     },
     "execution_count": 11,
     "metadata": {},
     "output_type": "execute_result"
    }
   ],
   "source": [
    "race_count=DF.Ethnicity.value_counts()\n",
    "race_count.head()"
   ]
  },
  {
   "cell_type": "code",
   "execution_count": 12,
   "id": "5f7b29fd",
   "metadata": {},
   "outputs": [
    {
     "data": {
      "image/png": "[encoded data removed]",
      "text/plain": [
       "<Figure size 864x432 with 1 Axes>"
      ]
     },
     "metadata": {
      "needs_background": "light"
     },
     "output_type": "display_data"
    }
   ],
   "source": [
    "plt.figure(figsize=(12,6))\n",
    "sns.barplot(x=race_count.index,y=race_count)\n",
    "\n",
    "plt.xlabel(\"Ethnicity Groups\")\n",
    "plt.ylabel(\"No of people\")\n",
    "plt.show()"
   ]
  },
  {
   "cell_type": "code",
   "execution_count": 13,
   "id": "c6251c3a",
   "metadata": {},
   "outputs": [
    {
     "data": {
      "image/png": "[encoded data removed]",
      "text/plain": [
       "<Figure size 1440x720 with 1 Axes>"
      ]
     },
     "metadata": {
      "needs_background": "light"
     },
     "output_type": "display_data"
    }
   ],
   "source": [
    "plt.figure(figsize=(20,10))\n",
    "M1 =  DF['Maths'][(DF['Maths'] >= 21) & (DF['Maths'] <= 40)]\n",
    "M2 =  DF['Maths'][(DF['Maths'] >= 41) & (DF['Maths'] <= 60)]\n",
    "M3 =  DF['Maths'][(DF['Maths'] >= 61) & (DF['Maths'] <= 80)]\n",
    "M4 =  DF['Maths'][(DF['Maths'] >= 81) & (DF['Maths'] <= 100)]\n",
    "\n",
    "\n",
    "ssx = [\"21-40\", \"41-60\", \"61-80\", \"81-100\"]\n",
    "ssy = [len(M1.values), len(M2.values), len(M3.values), len(M4.values)]\n",
    "plt.title (\"MAths Range of student\")\n",
    "sns.barplot(x=ssx, y=ssy, palette=\"Set2\")\n",
    "\n",
    "plt.xlabel(\"Maths Scores\")\n",
    "plt.ylabel(\"Number of students Having the Score\")\n",
    "plt.show()"
   ]
  },
  {
   "cell_type": "code",
   "execution_count": 14,
   "id": "48739cab",
   "metadata": {},
   "outputs": [
    {
     "data": {
      "image/png": "[encoded data removed]",
      "text/plain": [
       "<Figure size 1440x720 with 1 Axes>"
      ]
     },
     "metadata": {
      "needs_background": "light"
     },
     "output_type": "display_data"
    }
   ],
   "source": [
    "plt.figure(figsize=(20,10))\n",
    "r1 =  DF['Reading'][(DF['Reading'] >= 21) & (DF['Reading'] <= 40)]\n",
    "r2 =  DF['Reading'][(DF['Reading'] >= 41) & (DF['Reading'] <= 60)]\n",
    "r3 =  DF['Reading'][(DF['Reading'] >= 61) & (DF['Reading'] <= 80)]\n",
    "r4 =  DF['Reading'][(DF['Reading'] >= 81) & (DF['Reading'] <= 100)]\n",
    "\n",
    "\n",
    "ssx = [\"21-40\", \"41-60\", \"61-80\", \"81-100\"]\n",
    "ssy = [len(r1.values), len(r2.values), len(r3.values), len(r4.values)]\n",
    "plt.title (\"Reading Range of student\")\n",
    "sns.barplot(x=ssx, y=ssy, palette=\"Set2\")\n",
    "\n",
    "plt.xlabel(\"Reading Scores\")\n",
    "plt.ylabel(\"Number of students Having the Score\")\n",
    "plt.show()"
   ]
  },
  {
   "cell_type": "code",
   "execution_count": 15,
   "id": "37355c1d",
   "metadata": {},
   "outputs": [
    {
     "data": {
      "image/png": "[encoded data removed]",
      "text/plain": [
       "<Figure size 1440x720 with 1 Axes>"
      ]
     },
     "metadata": {
      "needs_background": "light"
     },
     "output_type": "display_data"
    }
   ],
   "source": [
    "plt.figure(figsize=(20,10))\n",
    "w1 =  DF['Writing'][(DF['Writing'] >= 21) & (DF['Writing'] <= 40)]\n",
    "w2 =  DF['Writing'][(DF['Writing'] >= 41) & (DF['Writing'] <= 60)]\n",
    "w3 =  DF['Writing'][(DF['Writing'] >= 61) & (DF['Writing'] <= 80)]\n",
    "w4 =  DF['Writing'][(DF['Writing'] >= 81) & (DF['Writing'] <= 100)]\n",
    "\n",
    "\n",
    "ssx = [\"21-40\", \"41-60\", \"61-80\", \"81-100\"]\n",
    "ssy = [len(w1.values), len(w2.values), len(w3.values), len(w4.values)]\n",
    "plt.title (\"Writing Range of student\")\n",
    "sns.barplot(x=ssx, y=ssy, palette=\"Set2\")\n",
    "\n",
    "plt.xlabel(\"Reading Scores\")\n",
    "plt.ylabel(\"Number of students Having the Score\")\n",
    "plt.show()"
   ]
  },
  {
   "cell_type": "code",
   "execution_count": 16,
   "id": "698a84f7",
   "metadata": {},
   "outputs": [
    {
     "data": {
      "text/plain": [
       "female    518\n",
       "male      482\n",
       "Name: Gender, dtype: int64"
      ]
     },
     "execution_count": 16,
     "metadata": {},
     "output_type": "execute_result"
    }
   ],
   "source": [
    "DF.Gender.value_counts()"
   ]
  },
  {
   "cell_type": "code",
   "execution_count": 17,
   "id": "5dc4d0c1",
   "metadata": {},
   "outputs": [
    {
     "data": {
      "image/png": "[encoded data removed]",
      "text/plain": [
       "<Figure size 864x432 with 1 Axes>"
      ]
     },
     "metadata": {},
     "output_type": "display_data"
    }
   ],
   "source": [
    "plt.figure(figsize=(12,6))\n",
    "plt.pie(DF.Gender.value_counts(),labels=DF.Gender.value_counts().index)\n",
    "plt.show()"
   ]
  },
  {
   "cell_type": "code",
   "execution_count": 18,
   "id": "9151651c",
   "metadata": {},
   "outputs": [
    {
     "data": {
      "text/plain": [
       "some college          226\n",
       "associate's degree    222\n",
       "high school           196\n",
       "some high school      179\n",
       "bachelor's degree     118\n",
       "master's degree        59\n",
       "Name: Parents_Qualification, dtype: int64"
      ]
     },
     "execution_count": 18,
     "metadata": {},
     "output_type": "execute_result"
    }
   ],
   "source": [
    "DF.Parents_Qualification.value_counts()"
   ]
  },
  {
   "cell_type": "code",
   "execution_count": 19,
   "id": "b4b01dfa",
   "metadata": {},
   "outputs": [
    {
     "data": {
      "image/png": "[encoded data removed]",
      "text/plain": [
       "<Figure size 1440x720 with 1 Axes>"
      ]
     },
     "metadata": {
      "needs_background": "light"
     },
     "output_type": "display_data"
    }
   ],
   "source": [
    "plt.figure(figsize=(20,10))\n",
    "sns.barplot(x=DF.Parents_Qualification.value_counts().index,y=DF.Parents_Qualification.value_counts(),palette='Set2')\n",
    "plt.xlabel('Qualifictaions')\n",
    "plt.ylabel('No of parents')\n",
    "plt.show()"
   ]
  },
  {
   "cell_type": "code",
   "execution_count": 20,
   "id": "ac104893",
   "metadata": {},
   "outputs": [
    {
     "data": {
      "text/plain": [
       "B2      263\n",
       "B1      246\n",
       "C1      189\n",
       "A2      132\n",
       "C2       89\n",
       "A1       45\n",
       "D        24\n",
       "Fail     12\n",
       "Name: Grade, dtype: int64"
      ]
     },
     "execution_count": 20,
     "metadata": {},
     "output_type": "execute_result"
    }
   ],
   "source": [
    "DF.Grade.value_counts()"
   ]
  },
  {
   "cell_type": "code",
   "execution_count": 21,
   "id": "f9a8350c",
   "metadata": {},
   "outputs": [
    {
     "data": {
      "image/png": "[encoded data removed]",
      "text/plain": [
       "<Figure size 1008x504 with 1 Axes>"
      ]
     },
     "metadata": {},
     "output_type": "display_data"
    }
   ],
   "source": [
    "plt.figure(figsize=(14,7))\n",
    "plt.pie(DF.Grade.value_counts(),labels=DF.Grade.value_counts().index,autopct='%1.0f%%')\n",
    "plt.show()\n"
   ]
  },
  {
   "cell_type": "code",
   "execution_count": 22,
   "id": "4a7228a2",
   "metadata": {},
   "outputs": [
    {
     "data": {
      "text/plain": [
       "none         642\n",
       "completed    358\n",
       "Name: Course, dtype: int64"
      ]
     },
     "execution_count": 22,
     "metadata": {},
     "output_type": "execute_result"
    }
   ],
   "source": [
    "DF.Course.value_counts()"
   ]
  },
  {
   "cell_type": "code",
   "execution_count": 23,
   "id": "48641d26",
   "metadata": {},
   "outputs": [
    {
     "data": {
      "image/png": "[encoded data removed]",
      "text/plain": [
       "<Figure size 864x432 with 1 Axes>"
      ]
     },
     "metadata": {},
     "output_type": "display_data"
    }
   ],
   "source": [
    "plt.figure(figsize=(12,6))\n",
    "plt.pie(DF.Course.value_counts(),labels=DF.Course.value_counts().index,autopct=\"%1.0f%%\")\n",
    "plt.show()"
   ]
  },
  {
   "cell_type": "code",
   "execution_count": 24,
   "id": "3cf562e1",
   "metadata": {},
   "outputs": [
    {
     "data": {
      "text/html": [
       "<div>\n",
       "<style scoped>\n",
       "    .dataframe tbody tr th:only-of-type {\n",
       "        vertical-align: middle;\n",
       "    }\n",
       "\n",
       "    .dataframe tbody tr th {\n",
       "        vertical-align: top;\n",
       "    }\n",
       "\n",
       "    .dataframe thead th {\n",
       "        text-align: right;\n",
       "    }\n",
       "</style>\n",
       "<table border=\"1\" class=\"dataframe\">\n",
       "  <thead>\n",
       "    <tr style=\"text-align: right;\">\n",
       "      <th></th>\n",
       "      <th>Gender</th>\n",
       "      <th>Ethnicity</th>\n",
       "      <th>Parents_Qualification</th>\n",
       "      <th>Lunch</th>\n",
       "      <th>Course</th>\n",
       "      <th>Maths</th>\n",
       "      <th>Reading</th>\n",
       "      <th>Writing</th>\n",
       "      <th>Average</th>\n",
       "      <th>Grade</th>\n",
       "    </tr>\n",
       "  </thead>\n",
       "  <tbody>\n",
       "    <tr>\n",
       "      <th>3</th>\n",
       "      <td>male</td>\n",
       "      <td>group A</td>\n",
       "      <td>associate's degree</td>\n",
       "      <td>free/reduced</td>\n",
       "      <td>none</td>\n",
       "      <td>47</td>\n",
       "      <td>57</td>\n",
       "      <td>44</td>\n",
       "      <td>49.333333</td>\n",
       "      <td>C2</td>\n",
       "    </tr>\n",
       "    <tr>\n",
       "      <th>13</th>\n",
       "      <td>male</td>\n",
       "      <td>group A</td>\n",
       "      <td>some college</td>\n",
       "      <td>standard</td>\n",
       "      <td>completed</td>\n",
       "      <td>78</td>\n",
       "      <td>72</td>\n",
       "      <td>70</td>\n",
       "      <td>73.333333</td>\n",
       "      <td>B1</td>\n",
       "    </tr>\n",
       "    <tr>\n",
       "      <th>14</th>\n",
       "      <td>female</td>\n",
       "      <td>group A</td>\n",
       "      <td>master's degree</td>\n",
       "      <td>standard</td>\n",
       "      <td>none</td>\n",
       "      <td>50</td>\n",
       "      <td>53</td>\n",
       "      <td>58</td>\n",
       "      <td>53.666667</td>\n",
       "      <td>C1</td>\n",
       "    </tr>\n",
       "    <tr>\n",
       "      <th>25</th>\n",
       "      <td>male</td>\n",
       "      <td>group A</td>\n",
       "      <td>master's degree</td>\n",
       "      <td>free/reduced</td>\n",
       "      <td>none</td>\n",
       "      <td>73</td>\n",
       "      <td>74</td>\n",
       "      <td>72</td>\n",
       "      <td>73.000000</td>\n",
       "      <td>B1</td>\n",
       "    </tr>\n",
       "    <tr>\n",
       "      <th>46</th>\n",
       "      <td>female</td>\n",
       "      <td>group A</td>\n",
       "      <td>associate's degree</td>\n",
       "      <td>standard</td>\n",
       "      <td>completed</td>\n",
       "      <td>55</td>\n",
       "      <td>65</td>\n",
       "      <td>62</td>\n",
       "      <td>60.666667</td>\n",
       "      <td>C1</td>\n",
       "    </tr>\n",
       "    <tr>\n",
       "      <th>61</th>\n",
       "      <td>male</td>\n",
       "      <td>group A</td>\n",
       "      <td>some high school</td>\n",
       "      <td>free/reduced</td>\n",
       "      <td>none</td>\n",
       "      <td>39</td>\n",
       "      <td>39</td>\n",
       "      <td>34</td>\n",
       "      <td>37.333333</td>\n",
       "      <td>D</td>\n",
       "    </tr>\n",
       "    <tr>\n",
       "      <th>62</th>\n",
       "      <td>male</td>\n",
       "      <td>group A</td>\n",
       "      <td>associate's degree</td>\n",
       "      <td>free/reduced</td>\n",
       "      <td>none</td>\n",
       "      <td>62</td>\n",
       "      <td>61</td>\n",
       "      <td>55</td>\n",
       "      <td>59.333333</td>\n",
       "      <td>C1</td>\n",
       "    </tr>\n",
       "    <tr>\n",
       "      <th>72</th>\n",
       "      <td>female</td>\n",
       "      <td>group A</td>\n",
       "      <td>associate's degree</td>\n",
       "      <td>free/reduced</td>\n",
       "      <td>none</td>\n",
       "      <td>41</td>\n",
       "      <td>51</td>\n",
       "      <td>48</td>\n",
       "      <td>46.666667</td>\n",
       "      <td>C2</td>\n",
       "    </tr>\n",
       "    <tr>\n",
       "      <th>77</th>\n",
       "      <td>male</td>\n",
       "      <td>group A</td>\n",
       "      <td>bachelor's degree</td>\n",
       "      <td>standard</td>\n",
       "      <td>completed</td>\n",
       "      <td>80</td>\n",
       "      <td>78</td>\n",
       "      <td>81</td>\n",
       "      <td>79.666667</td>\n",
       "      <td>B1</td>\n",
       "    </tr>\n",
       "    <tr>\n",
       "      <th>82</th>\n",
       "      <td>male</td>\n",
       "      <td>group A</td>\n",
       "      <td>some college</td>\n",
       "      <td>free/reduced</td>\n",
       "      <td>completed</td>\n",
       "      <td>50</td>\n",
       "      <td>47</td>\n",
       "      <td>54</td>\n",
       "      <td>50.333333</td>\n",
       "      <td>C2</td>\n",
       "    </tr>\n",
       "  </tbody>\n",
       "</table>\n",
       "</div>"
      ],
      "text/plain": [
       "    Gender Ethnicity Parents_Qualification         Lunch     Course  Maths  \\\n",
       "3     male   group A    associate's degree  free/reduced       none     47   \n",
       "13    male   group A          some college      standard  completed     78   \n",
       "14  female   group A       master's degree      standard       none     50   \n",
       "25    male   group A       master's degree  free/reduced       none     73   \n",
       "46  female   group A    associate's degree      standard  completed     55   \n",
       "61    male   group A      some high school  free/reduced       none     39   \n",
       "62    male   group A    associate's degree  free/reduced       none     62   \n",
       "72  female   group A    associate's degree  free/reduced       none     41   \n",
       "77    male   group A     bachelor's degree      standard  completed     80   \n",
       "82    male   group A          some college  free/reduced  completed     50   \n",
       "\n",
       "    Reading  Writing    Average Grade  \n",
       "3        57       44  49.333333    C2  \n",
       "13       72       70  73.333333    B1  \n",
       "14       53       58  53.666667    C1  \n",
       "25       74       72  73.000000    B1  \n",
       "46       65       62  60.666667    C1  \n",
       "61       39       34  37.333333     D  \n",
       "62       61       55  59.333333    C1  \n",
       "72       51       48  46.666667    C2  \n",
       "77       78       81  79.666667    B1  \n",
       "82       47       54  50.333333    C2  "
      ]
     },
     "execution_count": 24,
     "metadata": {},
     "output_type": "execute_result"
    }
   ],
   "source": [
    "Marks_dist1=DF[DF.Ethnicity=='group A']\n",
    "Marks_dist1.head(10)"
   ]
  },
  {
   "cell_type": "code",
   "execution_count": 27,
   "id": "490a08a2",
   "metadata": {},
   "outputs": [
    {
     "data": {
      "text/plain": [
       "62.992509363295895"
      ]
     },
     "execution_count": 27,
     "metadata": {},
     "output_type": "execute_result"
    }
   ],
   "source": [
    "group_a_avg=Marks_dist1['Average'].mean()\n",
    "\n",
    "group_a_avg\n"
   ]
  },
  {
   "cell_type": "code",
   "execution_count": 28,
   "id": "67842687",
   "metadata": {},
   "outputs": [
    {
     "data": {
      "text/plain": [
       "65.46842105263158"
      ]
     },
     "execution_count": 28,
     "metadata": {},
     "output_type": "execute_result"
    }
   ],
   "source": [
    "Marks_dist2=DF[DF.Ethnicity=='group B']\n",
    "group_b_avg=Marks_dist2['Average'].mean()\n",
    "group_b_avg"
   ]
  },
  {
   "cell_type": "code",
   "execution_count": 29,
   "id": "2cbfb602",
   "metadata": {},
   "outputs": [
    {
     "data": {
      "text/plain": [
       "67.13166144200628"
      ]
     },
     "execution_count": 29,
     "metadata": {},
     "output_type": "execute_result"
    }
   ],
   "source": [
    "Marks_dist3=DF[DF.Ethnicity=='group C']\n",
    "group_c_avg=Marks_dist3['Average'].mean()\n",
    "group_c_avg"
   ]
  },
  {
   "cell_type": "code",
   "execution_count": 30,
   "id": "e0146c75",
   "metadata": {},
   "outputs": [
    {
     "data": {
      "text/plain": [
       "69.1793893129771"
      ]
     },
     "execution_count": 30,
     "metadata": {},
     "output_type": "execute_result"
    }
   ],
   "source": [
    "Marks_dist4=DF[DF.Ethnicity=='group D']\n",
    "group_d_avg=Marks_dist4['Average'].mean()\n",
    "group_d_avg"
   ]
  },
  {
   "cell_type": "code",
   "execution_count": 31,
   "id": "5d8a3c5e",
   "metadata": {},
   "outputs": [
    {
     "data": {
      "text/plain": [
       "72.75238095238095"
      ]
     },
     "execution_count": 31,
     "metadata": {},
     "output_type": "execute_result"
    }
   ],
   "source": [
    "Marks_dist5=DF[DF.Ethnicity=='group E']\n",
    "group_e_avg=Marks_dist5['Average'].mean()\n",
    "group_e_avg"
   ]
  },
  {
   "cell_type": "code",
   "execution_count": 32,
   "id": "55aacef3",
   "metadata": {},
   "outputs": [
    {
     "data": {
      "image/png": "[encoded data removed]",
      "text/plain": [
       "<Figure size 1440x720 with 1 Axes>"
      ]
     },
     "metadata": {
      "needs_background": "light"
     },
     "output_type": "display_data"
    }
   ],
   "source": [
    "plt.figure(figsize=(20,10))\n",
    "x=['GroupA','GroupB','GroupC','GroupD','GroupE']\n",
    "y=[group_a_avg, group_b_avg, group_c_avg, group_d_avg, group_e_avg]\n",
    "plt.scatter(x,y)\n",
    "plt.show()"
   ]
  },
  {
   "cell_type": "code",
   "execution_count": null,
   "id": "77055e55",
   "metadata": {},
   "outputs": [],
   "source": []
  }
 ],
 "metadata": {
  "kernelspec": {
   "display_name": "Python 3 (ipykernel)",
   "language": "python",
   "name": "python3"
  },
  "language_info": {
   "codemirror_mode": {
    "name": "ipython",
    "version": 3
   },
   "file_extension": ".py",
   "mimetype": "text/x-python",
   "name": "python",
   "nbconvert_exporter": "python",
   "pygments_lexer": "ipython3",
   "version": "3.9.7"
  }
 },
 "nbformat": 4,
 "nbformat_minor": 5
}
